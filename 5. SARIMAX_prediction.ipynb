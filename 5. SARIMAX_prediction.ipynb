{
 "cells": [
  {
   "cell_type": "code",
   "execution_count": 3,
   "id": "c7fdcb1b",
   "metadata": {},
   "outputs": [],
   "source": [
    "from statsmodels.tsa.holtwinters import ExponentialSmoothing\n",
    "import statsmodels.api as sm\n",
    "from random import random\n",
    "from sklearn.metrics import mean_squared_error\n",
    "import math\n",
    "import pandas as pd\n",
    "import numpy as np\n",
    "import matplotlib.pyplot as plt\n",
    "import warnings\n",
    "warnings.filterwarnings('ignore')\n",
    "from tqdm import tqdm\n",
    "from tqdm import tqdm_notebook\n",
    "import itertools"
   ]
  },
  {
   "cell_type": "code",
   "execution_count": 4,
   "id": "06a4380a",
   "metadata": {},
   "outputs": [],
   "source": [
    "df = pd.read_csv('climate_test.csv', delimiter=';').drop('ID', axis=1)\n",
    "pred_res = list()"
   ]
  },
  {
   "cell_type": "code",
   "execution_count": 5,
   "id": "ccb60428",
   "metadata": {},
   "outputs": [],
   "source": [
    "ts = df.iloc[:,0]\n",
    "ts_val = ts[792:828]\n",
    "ts_train = ts[0:792]"
   ]
  },
  {
   "cell_type": "markdown",
   "id": "b99b25ce",
   "metadata": {},
   "source": [
    "Будем искать параметры модели SARIMAX по сетке, все паметры от 0 до 2. Выбираем лучший вариант и прогнозируем для kaggle."
   ]
  },
  {
   "cell_type": "code",
   "execution_count": 4,
   "id": "7955b1cb",
   "metadata": {},
   "outputs": [],
   "source": [
    "p = range(0, 3)\n",
    "d = range(0, 3)\n",
    "q = range(0, 3)\n",
    "pdq = list(itertools.product(p, d, q))\n",
    "seasonal_pdq = [(x[0], x[1], x[2], 12) for x in list(itertools.product(p, d, q))]"
   ]
  },
  {
   "cell_type": "code",
   "execution_count": 5,
   "id": "fce9c220",
   "metadata": {},
   "outputs": [
    {
     "data": {
      "application/vnd.jupyter.widget-view+json": {
       "model_id": "04659f8cc1864823a82bbae1f8d11447",
       "version_major": 2,
       "version_minor": 0
      },
      "text/plain": [
       "  0%|          | 0/10 [00:00<?, ?it/s]"
      ]
     },
     "metadata": {},
     "output_type": "display_data"
    }
   ],
   "source": [
    "for i in tqdm_notebook(range(10)):\n",
    "    ts = df.iloc[:, i]\n",
    "    ts_val = ts[792:828]\n",
    "    ts_train = ts[0:792]\n",
    "    pdq_best = (-1,-1,-1)\n",
    "    PDQ_best = (-1,-1,-1)\n",
    "    rmse_best = 10000\n",
    "    for param in pdq:\n",
    "        for param_seasonal in seasonal_pdq:\n",
    "            try:\n",
    "                mod = sm.tsa.statespace.SARIMAX(ts_train,\n",
    "                order=param,\n",
    "                seasonal_order=param_seasonal,\n",
    "                enforce_stationarity=False,\n",
    "                enforce_invertibility=False)\n",
    "                results = mod.fit(disp=-1)\n",
    "                pred = results.predict(start=792, end=827, dynamic=True)\n",
    "                MSE = mean_squared_error(ts_val, pred)\n",
    "                rmse = math.sqrt(MSE)\n",
    "                if (rmse < rmse_best):\n",
    "                    rmse_best = rmse\n",
    "                    pdq_best = param\n",
    "                    PDQ_best = param_seasonal\n",
    "            except:\n",
    "                continue\n",
    "    mod = sm.tsa.statespace.SARIMAX(ts,\n",
    "                order=pdq_best,\n",
    "                seasonal_order=PDQ_best,\n",
    "                enforce_stationarity=False,\n",
    "                enforce_invertibility=False)\n",
    "    results = mod.fit(disp=-1)\n",
    "    pred_res = pred_res + results.predict(start=828, end=863, dynamic=True).to_list()"
   ]
  },
  {
   "cell_type": "code",
   "execution_count": 6,
   "id": "f027b7bc",
   "metadata": {},
   "outputs": [],
   "source": [
    "df1 = pd.read_csv('climate_for_bw_onecol.csv', delimiter=',').drop('Predicted', axis=1)"
   ]
  },
  {
   "cell_type": "code",
   "execution_count": 7,
   "id": "b86aae5d",
   "metadata": {},
   "outputs": [],
   "source": [
    "d1 = pd.DataFrame({'Id' : df1.values.flatten(), 'Predicted': pred_res})\n",
    "d1.to_csv('test.csv', index=False)"
   ]
  }
 ],
 "metadata": {
  "kernelspec": {
   "display_name": "Python 3 (ipykernel)",
   "language": "python",
   "name": "python3"
  },
  "language_info": {
   "codemirror_mode": {
    "name": "ipython",
    "version": 3
   },
   "file_extension": ".py",
   "mimetype": "text/x-python",
   "name": "python",
   "nbconvert_exporter": "python",
   "pygments_lexer": "ipython3",
   "version": "3.10.7"
  }
 },
 "nbformat": 4,
 "nbformat_minor": 5
}
